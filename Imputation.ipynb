{
 "cells": [
  {
   "cell_type": "code",
   "execution_count": 1,
   "id": "afb21445",
   "metadata": {},
   "outputs": [],
   "source": [
    "#Libraries for data wrangling\n",
    "import pandas as pd\n",
    "import numpy as np\n",
    "from xgboost import XGBRegressor\n",
    "from sklearn.ensemble import GradientBoostingRegressor\n",
    "from sklearn.pipeline import Pipeline"
   ]
  },
  {
   "cell_type": "code",
   "execution_count": 2,
   "id": "2e95d6c2",
   "metadata": {},
   "outputs": [],
   "source": [
    "from sklearn.model_selection import cross_val_score"
   ]
  },
  {
   "cell_type": "code",
   "execution_count": 3,
   "id": "330b388d",
   "metadata": {},
   "outputs": [],
   "source": [
    "from sklearn.model_selection import KFold\n",
    "from sklearn.impute import SimpleImputer,KNNImputer"
   ]
  },
  {
   "cell_type": "code",
   "execution_count": 4,
   "id": "14827127",
   "metadata": {},
   "outputs": [],
   "source": [
    "#Reading the training dataset\n",
    "train=pd.read_excel('dataset.xlsx').drop(['Compressive\\nstrength tests', 'Elastic\\nmodulus tests',\n",
    "       'Flexural\\nstrength tests', 'Splitting\\ntensile strength tests'],axis=1)\n",
    "target_col='Compressive\\nstrength (f’c) (MPa)'\n",
    "features=list(train.columns)\n",
    "#drop row with all the features na.\n",
    "train=train.dropna(how='all')"
   ]
  },
  {
   "cell_type": "code",
   "execution_count": 5,
   "id": "1f8f4886",
   "metadata": {},
   "outputs": [],
   "source": [
    "model_x=XGBRegressor()\n",
    "model_g=GradientBoostingRegressor()\n",
    "X=train.drop([target_col],axis=1)\n",
    "y=train[target_col]"
   ]
  },
  {
   "cell_type": "markdown",
   "id": "04ef4283",
   "metadata": {},
   "source": [
    "# statistical imputation"
   ]
  },
  {
   "cell_type": "code",
   "execution_count": 6,
   "id": "536512ed",
   "metadata": {},
   "outputs": [],
   "source": [
    "strategies = ['mean', 'median', 'most_frequent', 'constant']"
   ]
  },
  {
   "cell_type": "code",
   "execution_count": 7,
   "id": "86c1a2d2",
   "metadata": {
    "scrolled": true
   },
   "outputs": [
    {
     "name": "stdout",
     "output_type": "stream",
     "text": [
      "Mean Accuracy xgb: -4.337 (0.702)\n",
      "Mean Accuracy gbdt: -5.614 (0.915)\n",
      "Mean Accuracy xgb: -4.288 (0.546)\n",
      "Mean Accuracy gbdt: -5.698 (0.910)\n",
      "Mean Accuracy xgb: -4.461 (0.479)\n",
      "Mean Accuracy gbdt: -5.739 (0.882)\n",
      "Mean Accuracy xgb: -4.232 (0.585)\n",
      "Mean Accuracy gbdt: -5.381 (0.680)\n"
     ]
    }
   ],
   "source": [
    "for s in strategies:\n",
    "    imputer = SimpleImputer(strategy=s)\n",
    "    pipeline1 = Pipeline(steps=[('i', imputer), ('m', model_x)])\n",
    "    pipeline2 = Pipeline(steps=[('i', imputer), ('m', model_g)])\n",
    "    cv =KFold(n_splits=10, random_state=1,shuffle=True)\n",
    "    scores1 = cross_val_score(pipeline1, X, y, scoring='neg_mean_absolute_error', cv=cv, n_jobs=-1)\n",
    "    scores2 = cross_val_score(pipeline2, X, y, scoring='neg_mean_absolute_error', cv=cv, n_jobs=-1)\n",
    "    print('Mean Accuracy xgb: %.3f (%.3f)' % (np.mean(scores1), np.std(scores1)))\n",
    "    print('Mean Accuracy gbdt: %.3f (%.3f)' % (np.mean(scores2), np.std(scores2)))"
   ]
  },
  {
   "cell_type": "code",
   "execution_count": 8,
   "id": "0e7ad7a2",
   "metadata": {},
   "outputs": [],
   "source": [
    "neighbour=[2,3,4,5,6]"
   ]
  },
  {
   "cell_type": "code",
   "execution_count": 9,
   "id": "d7e932b1",
   "metadata": {
    "scrolled": true
   },
   "outputs": [
    {
     "name": "stdout",
     "output_type": "stream",
     "text": [
      "Mean Accuracy xgb: -5.190 (0.682)\n",
      "Mean Accuracy gbdt: -5.792 (0.878)\n",
      "Mean Accuracy xgb: -5.322 (0.787)\n",
      "Mean Accuracy gbdt: -5.796 (0.843)\n",
      "Mean Accuracy xgb: -5.270 (1.030)\n",
      "Mean Accuracy gbdt: -5.851 (0.711)\n",
      "Mean Accuracy xgb: -5.251 (0.762)\n",
      "Mean Accuracy gbdt: -5.903 (0.798)\n",
      "Mean Accuracy xgb: -5.108 (0.789)\n",
      "Mean Accuracy gbdt: -5.574 (0.627)\n"
     ]
    }
   ],
   "source": [
    "for n in neighbour:\n",
    "    imputer = KNNImputer(n_neighbors=n, weights=\"uniform\")\n",
    "    pipeline1 = Pipeline(steps=[('i', imputer), ('m', model_x)])\n",
    "    pipeline2 = Pipeline(steps=[('i', imputer), ('m', model_g)])\n",
    "    cv =KFold(n_splits=10, random_state=1,shuffle=True)\n",
    "    scores1 = cross_val_score(pipeline1, X, y, scoring='neg_mean_absolute_error', cv=cv, n_jobs=-1)\n",
    "    scores2 = cross_val_score(pipeline2, X, y, scoring='neg_mean_absolute_error', cv=cv, n_jobs=-1)\n",
    "    print('Mean Accuracy xgb: %.3f (%.3f)' % (np.mean(scores1), np.std(scores1)))\n",
    "    print('Mean Accuracy gbdt: %.3f (%.3f)' % (np.mean(scores2), np.std(scores2)))"
   ]
  },
  {
   "cell_type": "code",
   "execution_count": 10,
   "id": "3e58ebd3",
   "metadata": {},
   "outputs": [],
   "source": [
    "imputer=SimpleImputer(strategy='constant')\n",
    "train=pd.DataFrame(imputer.fit_transform(train),columns=features)"
   ]
  },
  {
   "cell_type": "code",
   "execution_count": 11,
   "id": "4085df73",
   "metadata": {
    "scrolled": true
   },
   "outputs": [
    {
     "name": "stdout",
     "output_type": "stream",
     "text": [
      "Effective\\nwater- to-cement ratio    0.353837\n",
      "dtype: float64\n",
      "Aggregate-\\nto-cement ratio (a/c)   -0.217836\n",
      "dtype: float64\n",
      "RCA\\nreplacement ratio (RCA %)    0.033084\n",
      "dtype: float64\n",
      "Parent\\nconcrete strength(MPa)    3.396532\n",
      "dtype: float64\n",
      "Nominal\\nmaximum RCA size(mm)   -0.839659\n",
      "dtype: float64\n",
      "Nominal\\nmaximum NA size(mm)   -0.909702\n",
      "dtype: float64\n",
      "Bulk\\ndensity of RCA (kg/m3)   -0.919482\n",
      "dtype: float64\n",
      "Bulk\\ndensity of NA (kg/m3)   -0.55538\n",
      "dtype: float64\n",
      "Water\\nabsorption of RCA(WARCA) (%)    0.100572\n",
      "dtype: float64\n",
      "Water\\nabsorption of NA    1.128026\n",
      "dtype: float64\n",
      "Los\\nAngeles abrasion of RCA    1.840858\n",
      "dtype: float64\n",
      "Los\\nAngeles abrasion of NA    1.898719\n",
      "dtype: float64\n",
      "Density of\\nhardened\\nconcrete\\nAD (qad)\\n(kg/m3)    1.695857\n",
      "dtype: float64\n",
      "Density of\\nhardened\\nconcrete\\nSSD (qSSD)\\n(kg/m3)    2.137571\n",
      "dtype: float64\n",
      "Compressive\\nstrength (f’c) (MPa)    0.911971\n",
      "dtype: float64\n"
     ]
    }
   ],
   "source": [
    "for feature in features:\n",
    "    skewed_col=pd.DataFrame(train[feature])\n",
    "    print(skewed_col.skew())\n",
    "#only the parent concrete strength got higher skewness than 3.   "
   ]
  },
  {
   "cell_type": "markdown",
   "id": "73cf1ad5",
   "metadata": {},
   "source": [
    "# iterative imputation"
   ]
  },
  {
   "cell_type": "code",
   "execution_count": 12,
   "id": "c0cfeec0",
   "metadata": {},
   "outputs": [],
   "source": [
    "from sklearn.experimental import enable_iterative_imputer\n",
    "from sklearn.impute import IterativeImputer\n"
   ]
  },
  {
   "cell_type": "code",
   "execution_count": 13,
   "id": "42be890d",
   "metadata": {},
   "outputs": [],
   "source": [
    "# define imputer\n",
    "imputer = IterativeImputer(estimator=GradientBoostingRegressor(), n_nearest_features=None,max_iter=4, imputation_order='ascending')\n",
    "models=[('xgb',XGBRegressor()),('gdbt', GradientBoostingRegressor())]"
   ]
  },
  {
   "cell_type": "code",
   "execution_count": 14,
   "id": "fb66e3fc",
   "metadata": {},
   "outputs": [
    {
     "name": "stdout",
     "output_type": "stream",
     "text": [
      "Mean Accuracy : -5.496 (0.490)\n",
      "Mean Accuracy : -5.834 (0.384)\n"
     ]
    }
   ],
   "source": [
    "for name,model in models:\n",
    "    pipeline = Pipeline(steps=[('i', imputer), (name, model)])\n",
    "    cv =KFold(n_splits=5, random_state=47,shuffle=True)\n",
    "    scores = cross_val_score(pipeline, X, y, scoring='neg_mean_absolute_error', cv=cv, n_jobs=-1)\n",
    "    print('Mean Accuracy : %.3f (%.3f)' % (np.mean(scores), np.std(scores)))"
   ]
  }
 ],
 "metadata": {
  "kernelspec": {
   "display_name": "base",
   "language": "python",
   "name": "base"
  },
  "language_info": {
   "codemirror_mode": {
    "name": "ipython",
    "version": 3
   },
   "file_extension": ".py",
   "mimetype": "text/x-python",
   "name": "python",
   "nbconvert_exporter": "python",
   "pygments_lexer": "ipython3",
   "version": "3.9.12"
  }
 },
 "nbformat": 4,
 "nbformat_minor": 5
}
