{
 "cells": [
  {
   "cell_type": "code",
   "execution_count": 1,
   "id": "9956007c",
   "metadata": {},
   "outputs": [],
   "source": [
    "import pandas as pd\n",
    "import numpy as np\n",
    "from sklearn.metrics import r2_score, mean_squared_error, mean_absolute_error\n",
    "from sklearn.model_selection import StratifiedKFold, KFold\n",
    "from xgboost import XGBRegressor\n",
    "from sklearn.impute import KNNImputer,SimpleImputer\n",
    "from sklearn.preprocessing import MinMaxScaler, PowerTransformer,FunctionTransformer"
   ]
  },
  {
   "cell_type": "code",
   "execution_count": 2,
   "id": "852277d8",
   "metadata": {},
   "outputs": [],
   "source": [
    "def imputer(train,method='none'):\n",
    "    if method == 'SimpleImputer':\n",
    "        imputer = SimpleImputer(missing_values=np.nan, strategy='mean')\n",
    "        return pd.DataFrame(imputer.fit_transform(train),columns=features)\n",
    "    elif method == 'KNNImputer':\n",
    "        imputer = KNNImputer(n_neighbors=2, weights=\"uniform\")\n",
    "        return pd.DataFrame(imputer.fit_transform(train),columns=features)\n",
    "    else :\n",
    "        return train\n",
    "     "
   ]
  },
  {
   "cell_type": "code",
   "execution_count": 3,
   "id": "7e65ddfa",
   "metadata": {},
   "outputs": [],
   "source": [
    "train=pd.read_excel('dataset.xlsx').drop(['Compressive\\nstrength tests', 'Elastic\\nmodulus tests',\n",
    "       'Flexural\\nstrength tests', 'Splitting\\ntensile strength tests'],axis=1)\n",
    "target_col='Compressive\\nstrength (f’c) (MPa)'\n",
    "features=list(train.columns)\n",
    "train=train.dropna(how='all')\n",
    "\n",
    "train=imputer(train,'KNNImputer')\n",
    "test=train.drop([target_col],axis=1)"
   ]
  },
  {
   "cell_type": "code",
   "execution_count": 4,
   "id": "2055f2ef",
   "metadata": {
    "scrolled": false
   },
   "outputs": [
    {
     "name": "stdout",
     "output_type": "stream",
     "text": [
      "['Bulk\\ndensity of RCA (kg/m3)', 'Density of\\nhardened\\nconcrete\\nAD (qad)\\n(kg/m3)', 'Density of\\nhardened\\nconcrete\\nSSD (qSSD)\\n(kg/m3)']\n",
      "------------------------------\n",
      "Bulk\n",
      "density of RCA (kg/m3) ['bx_cx_Bulk\\ndensity of RCA (kg/m3)', 'pow_Bulk\\ndensity of RCA (kg/m3)', 'pow2_Bulk\\ndensity of RCA (kg/m3)', 'log_pow2Bulk\\ndensity of RCA (kg/m3)'] 7.839673692703248\n",
      "Density of\n",
      "hardened\n",
      "concrete\n",
      "AD (qad)\n",
      "(kg/m3) ['Density of\\nhardened\\nconcrete\\nAD (qad)\\n(kg/m3)', 'pow2_Density of\\nhardened\\nconcrete\\nAD (qad)\\n(kg/m3)', 'log_pow2Density of\\nhardened\\nconcrete\\nAD (qad)\\n(kg/m3)'] 8.346966341140481\n",
      "Density of\n",
      "hardened\n",
      "concrete\n",
      "SSD (qSSD)\n",
      "(kg/m3) ['Density of\\nhardened\\nconcrete\\nSSD (qSSD)\\n(kg/m3)', 'pow_Density of\\nhardened\\nconcrete\\nSSD (qSSD)\\n(kg/m3)', 'pow2_Density of\\nhardened\\nconcrete\\nSSD (qSSD)\\n(kg/m3)', 'log_pow2Density of\\nhardened\\nconcrete\\nSSD (qSSD)\\n(kg/m3)'] 10.272632942606645\n"
     ]
    }
   ],
   "source": [
    "sc=MinMaxScaler()\n",
    "cont_cols=[f for f in train.columns if f not in [target_col] and train[f].nunique()>100]\n",
    "print(cont_cols)\n",
    "print(\"------------------------------\")\n",
    "for col in cont_cols:\n",
    "    \n",
    "    # Log Transformation after MinMax Scaling(keeps data between 0 and 1)\n",
    "    train[\"log_\"+col]=np.log1p(sc.fit_transform(train[[col]]))\n",
    "    test[\"log_\"+col]=np.log1p(sc.transform(test[[col]]))\n",
    "    \n",
    "    # Square Root Transformation\n",
    "    train[\"sqrt_\"+col]=np.sqrt(sc.fit_transform(train[[col]]))\n",
    "    test[\"sqrt_\"+col]=np.sqrt(sc.transform(test[[col]]))\n",
    "    \n",
    "    # Box-Cox transformation\n",
    "    transformer = PowerTransformer(method='box-cox')\n",
    "    train[\"bx_cx_\"+col] = transformer.fit_transform(sc.fit_transform(train[[col]])+1) # adjusted to make it +ve\n",
    "    test[\"bx_cx_\"+col] = transformer.transform(sc.transform(test[[col]])+1)\n",
    "    \n",
    "    # Yeo-Johnson transformation\n",
    "    transformer = PowerTransformer(method='yeo-johnson')\n",
    "    train[\"y_J_\"+col] = transformer.fit_transform(train[[col]])\n",
    "    test[\"y_J_\"+col] = transformer.transform(test[[col]])\n",
    "    \n",
    "    # Power transformation, 0.25\n",
    "    power_transform = lambda x: np.power(x, 0.25) \n",
    "    transformer = FunctionTransformer(power_transform)\n",
    "    train[\"pow_\"+col] = transformer.fit_transform(sc.fit_transform(train[[col]]))\n",
    "    test[\"pow_\"+col] = transformer.transform(sc.transform(test[[col]]))\n",
    "    \n",
    "    # Power transformation, 0.1\n",
    "    power_transform = lambda x: np.power(x, 0.1) \n",
    "    transformer = FunctionTransformer(power_transform)\n",
    "    train[\"pow2_\"+col] = transformer.fit_transform(sc.fit_transform(train[[col]]))\n",
    "    test[\"pow2_\"+col] = transformer.transform(sc.transform(test[[col]]))\n",
    "    \n",
    "    # log to power transformation\n",
    "    train[\"log_pow2\"+col]=np.log1p(train[\"pow2_\"+col])\n",
    "    test[\"log_pow2\"+col]=np.log1p(test[\"pow2_\"+col])\n",
    "    \n",
    "    temp_cols=[col,\"log_\"+col,\"sqrt_\"+col, \"bx_cx_\"+col,\"y_J_\"+col ,\"pow_\"+col,\"pow2_\"+col,\"log_pow2\"+col ]\n",
    "    \n",
    "    # See which transformation along with the original is giving you the best univariate fit with target\n",
    "    kf=KFold(n_splits=10, shuffle=True, random_state=42)\n",
    "    \n",
    "    MAE=[]\n",
    "    \n",
    "    for f in temp_cols:\n",
    "        X=train[[f]].values\n",
    "        y=train[target_col].values\n",
    "        \n",
    "        mae=[]\n",
    "        for train_idx, val_idx in kf.split(X,y):\n",
    "            X_train,y_train=X[train_idx],y[train_idx]\n",
    "            x_val,y_val=X[val_idx],y[val_idx]\n",
    "            model=XGBRegressor()\n",
    "            model.fit(X_train,y_train)\n",
    "            y_pred=model.predict(x_val)\n",
    "            mae.append(mean_absolute_error(y_val,y_pred))\n",
    "        MAE.append((f,np.mean(mae)))\n",
    "    best_col, best_acc=sorted(MAE, key=lambda x:x[1], reverse=False)[0]\n",
    "    \n",
    "    # check correlation between best_col and other columns and drop if correlation >0.9\n",
    "    corr = train[temp_cols].corr(method='pearson')\n",
    "    corr_with_best_col = corr[best_col]\n",
    "    cols_to_drop = [f for f in temp_cols if corr_with_best_col[f] > 0.9 and f != best_col]\n",
    "    final_selection=[f for f in temp_cols if f not in cols_to_drop]\n",
    "    if cols_to_drop:\n",
    "        train = train.drop(columns=cols_to_drop)\n",
    "        test = test.drop(columns=cols_to_drop)\n",
    "    \n",
    "    print(col,final_selection,best_acc)"
   ]
  },
  {
   "cell_type": "code",
   "execution_count": 5,
   "id": "a888d34e",
   "metadata": {},
   "outputs": [
    {
     "data": {
      "text/plain": [
       "array([[0.039636146277189255, 'Effective\\nwater- to-cement ratio'],\n",
       "       [0.02500918135046959, 'Aggregate-\\nto-cement ratio (a/c)'],\n",
       "       [0.009774562902748585, 'RCA\\nreplacement ratio (RCA %)'],\n",
       "       [0.29666340351104736, 'Parent\\nconcrete strength(MPa)'],\n",
       "       [0.20828048884868622, 'Nominal\\nmaximum RCA size(mm)'],\n",
       "       [0.09794824570417404, 'Nominal\\nmaximum NA size(mm)'],\n",
       "       [0.025057395920157433, 'Bulk\\ndensity of NA (kg/m3)'],\n",
       "       [0.038900118321180344, 'Water\\nabsorption of RCA(WARCA) (%)'],\n",
       "       [0.041675638407468796, 'Water\\nabsorption of NA'],\n",
       "       [0.07052599638700485, 'Los\\nAngeles abrasion of RCA'],\n",
       "       [0.054415613412857056, 'Los\\nAngeles abrasion of NA'],\n",
       "       [0.040289852768182755,\n",
       "        'Density of\\nhardened\\nconcrete\\nAD (qad)\\n(kg/m3)'],\n",
       "       [0.021808026358485222,\n",
       "        'Density of\\nhardened\\nconcrete\\nSSD (qSSD)\\n(kg/m3)'],\n",
       "       [0.03001531958580017, 'bx_cx_Bulk\\ndensity of RCA (kg/m3)'],\n",
       "       [0.0, 'pow_Bulk\\ndensity of RCA (kg/m3)'],\n",
       "       [0.0, 'pow2_Bulk\\ndensity of RCA (kg/m3)'],\n",
       "       [0.0, 'log_pow2Bulk\\ndensity of RCA (kg/m3)'],\n",
       "       [0.0, 'pow2_Density of\\nhardened\\nconcrete\\nAD (qad)\\n(kg/m3)'],\n",
       "       [0.0, 'log_pow2Density of\\nhardened\\nconcrete\\nAD (qad)\\n(kg/m3)'],\n",
       "       [0.0, 'pow_Density of\\nhardened\\nconcrete\\nSSD (qSSD)\\n(kg/m3)'],\n",
       "       [0.0, 'pow2_Density of\\nhardened\\nconcrete\\nSSD (qSSD)\\n(kg/m3)'],\n",
       "       [0.0,\n",
       "        'log_pow2Density of\\nhardened\\nconcrete\\nSSD (qSSD)\\n(kg/m3)']],\n",
       "      dtype=object)"
      ]
     },
     "execution_count": 5,
     "metadata": {},
     "output_type": "execute_result"
    }
   ],
   "source": [
    "from sklearn.model_selection import train_test_split\n",
    "X_train, X_test, y_train, y_test = train_test_split(train.drop([target_col],axis=1),train[target_col], test_size=0.33)\n",
    "model=XGBRegressor()\n",
    "model.fit(X_train,y_train)\n",
    "np.column_stack((model.feature_importances_,X_train.columns))"
   ]
  }
 ],
 "metadata": {
  "kernelspec": {
   "display_name": "base",
   "language": "python",
   "name": "base"
  },
  "language_info": {
   "codemirror_mode": {
    "name": "ipython",
    "version": 3
   },
   "file_extension": ".py",
   "mimetype": "text/x-python",
   "name": "python",
   "nbconvert_exporter": "python",
   "pygments_lexer": "ipython3",
   "version": "3.9.12"
  }
 },
 "nbformat": 4,
 "nbformat_minor": 5
}
